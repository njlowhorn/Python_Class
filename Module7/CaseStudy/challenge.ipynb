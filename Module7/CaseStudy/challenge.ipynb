{
 "cells": [
  {
   "cell_type": "code",
   "execution_count": 2,
   "id": "117b01ad",
   "metadata": {},
   "outputs": [],
   "source": [
    "import pandas as pd\n",
    "from bokeh.plotting import figure, output_file, show\n",
    "from bokeh.models import ColumnDataSource\n",
    "\n",
    "output_file('flightdata.html')\n",
    "df = pd.read_csv('flightdata.csv')\n",
    "sample = df.sample(1000)\n",
    "source = ColumnDataSource(sample)\n",
    "p=figure()\n",
    "p.circle(x='DepTime', y='DepDelay', source=source, size=10, color='blue')\n",
    "p.title.text = \"Flight Departure Time and Delay Correlation\"\n",
    "p.xaxis.axis_label = \"Departure Time\"\n",
    "p.yaxis.axis_label = \"Departure Delay\"\n",
    "show(p)"
   ]
  },
  {
   "cell_type": "code",
   "execution_count": null,
   "id": "e6348785",
   "metadata": {},
   "outputs": [],
   "source": []
  }
 ],
 "metadata": {
  "kernelspec": {
   "display_name": "conda_python3",
   "language": "python",
   "name": "conda_python3"
  },
  "language_info": {
   "codemirror_mode": {
    "name": "ipython",
    "version": 3
   },
   "file_extension": ".py",
   "mimetype": "text/x-python",
   "name": "python",
   "nbconvert_exporter": "python",
   "pygments_lexer": "ipython3",
   "version": "3.10.8"
  }
 },
 "nbformat": 4,
 "nbformat_minor": 5
}
